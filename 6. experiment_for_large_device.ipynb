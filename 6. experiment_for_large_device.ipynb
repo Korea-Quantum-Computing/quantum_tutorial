{
 "cells": [
  {
   "cell_type": "code",
   "execution_count": 3,
   "id": "604e18b6-9efe-48d0-8e18-6e0aeb7bed76",
   "metadata": {
    "tags": []
   },
   "outputs": [],
   "source": [
    "# Importing standard Qiskit libraries\n",
    "from qiskit import QuantumCircuit, transpile\n",
    "from qiskit.tools.jupyter import *\n",
    "from qiskit.visualization import *\n",
    "from ibm_quantum_widgets import *\n",
    "from qiskit_aer import AerSimulator\n",
    "from qiskit_ibm_runtime import QiskitRuntimeService, Sampler, Estimator, Session, Options\n",
    "\n",
    "import pandas as pd\n",
    "import numpy as np\n",
    "import matplotlib.pyplot as plt\n",
    "import seaborn as sns\n",
    "\n",
    "service = QiskitRuntimeService(\n",
    "    channel='ibm_quantum',\n",
    "    instance='ibm-q-kqc/internal/default',\n",
    ")"
   ]
  },
  {
   "cell_type": "code",
   "execution_count": 4,
   "id": "ddbd4013-2076-42f0-bb04-c0b33be48c30",
   "metadata": {},
   "outputs": [],
   "source": [
    "n_qubits = [27,127,433]\n",
    "devices = [\"ibmq_kolkata\",\"ibm_nazca\",\"ibm_seattle\"]"
   ]
  },
  {
   "cell_type": "code",
   "execution_count": 167,
   "id": "d827ae14-fb33-47bc-ae1a-a8da4ceda193",
   "metadata": {
    "tags": []
   },
   "outputs": [],
   "source": [
    "circuits = [] \n",
    "for i in range(3):\n",
    "    qc = QuantumCircuit(n_qubits[i],10)\n",
    "    for j in range(n_qubits[i]):\n",
    "        qc.x(j)\n",
    "    qc.measure(range(10),range(10))\n",
    "    circuits += [qc]\n",
    "circuits1 = circuits"
   ]
  },
  {
   "cell_type": "code",
   "execution_count": null,
   "id": "fb14577a-4c6a-4baf-98ee-bd28bc6396dc",
   "metadata": {},
   "outputs": [],
   "source": [
    "circuits = circuits1\n",
    "\n",
    "jobs = [] \n",
    "options = Options(optimization_level=3, resilience_level=1)\n",
    "for i in range(3):\n",
    "    with Session(backend = service.backend(devices[i])):\n",
    "        sampler = Sampler(options=options)\n",
    "        s_job = sampler.run(circuits[i])\n",
    "    jobs += [s_job]\n",
    "    print(f\"Device {i+1} Job id: {s_job.job_id()}\")"
   ]
  },
  {
   "cell_type": "code",
   "execution_count": null,
   "id": "53741231-6e16-419b-87c6-d7050ea7c187",
   "metadata": {},
   "outputs": [],
   "source": [
    "circuits = circuits1\n",
    "\n",
    "jobs = [] \n",
    "options = Options(optimization_level=3, resilience_level=0)\n",
    "for i in range(3):\n",
    "    with Session(backend = service.backend(devices[i])):\n",
    "        sampler = Sampler(options=options)\n",
    "        s_job = sampler.run(circuits[i])\n",
    "    jobs += [s_job]\n",
    "    print(f\"Device {i+1} Job id: {s_job.job_id()}\")"
   ]
  },
  {
   "cell_type": "code",
   "execution_count": 15,
   "id": "fd45114a-c6bc-4af5-847b-6547f51e2ffe",
   "metadata": {
    "tags": []
   },
   "outputs": [],
   "source": [
    "circuits = [] \n",
    "for i in range(3):\n",
    "    qc = QuantumCircuit(n_qubits[i],10)\n",
    "    for j in range(n_qubits[i]):\n",
    "        qc.h(j)\n",
    "    qc.measure(range(10),range(10))\n",
    "    circuits += [qc]\n",
    "circuits2 = circuits"
   ]
  },
  {
   "cell_type": "code",
   "execution_count": 16,
   "id": "831fc90c-498b-4dbc-a142-a635748f3bf0",
   "metadata": {
    "tags": []
   },
   "outputs": [
    {
     "name": "stdout",
     "output_type": "stream",
     "text": [
      "Device 1 Job id: ci1c3i1cinbchsh2sd40\n",
      "Device 2 Job id: ci1c3i9cinbchsh2sd9g\n",
      "Device 3 Job id: ci1c3i8ihcilpv6btglg\n"
     ]
    }
   ],
   "source": [
    "circuits = circuits2\n",
    "\n",
    "jobs = [] \n",
    "options = Options(optimization_level=3, resilience_level=1)\n",
    "for i in range(3):\n",
    "    with Session(backend = service.backend(devices[i])):\n",
    "        sampler = Sampler(options=options)\n",
    "        s_job = sampler.run(circuits[i])\n",
    "    jobs += [s_job]\n",
    "    print(f\"Device {i+1} Job id: {s_job.job_id()}\")"
   ]
  },
  {
   "cell_type": "code",
   "execution_count": 17,
   "id": "a51d6a38-3c8a-40c0-a10a-488533c532a2",
   "metadata": {
    "tags": []
   },
   "outputs": [
    {
     "name": "stdout",
     "output_type": "stream",
     "text": [
      "Device 1 Job id: ci1c3iilnlj7ii9flcs0\n",
      "Device 2 Job id: ci1c3ioihcilpv6btgv0\n",
      "Device 3 Job id: ci1c3ip3lqnvrkoko980\n"
     ]
    }
   ],
   "source": [
    "circuits = circuits2\n",
    "\n",
    "jobs = [] \n",
    "options = Options(optimization_level=3, resilience_level=0)\n",
    "for i in range(3):\n",
    "    with Session(backend = service.backend(devices[i])):\n",
    "        sampler = Sampler(options=options)\n",
    "        s_job = sampler.run(circuits[i])\n",
    "    jobs += [s_job]\n",
    "    print(f\"Device {i+1} Job id: {s_job.job_id()}\")"
   ]
  },
  {
   "cell_type": "code",
   "execution_count": 87,
   "id": "359b6012-7926-402b-9a12-097cad5daf45",
   "metadata": {
    "tags": []
   },
   "outputs": [],
   "source": [
    "circuits = [] \n",
    "for i in range(3):\n",
    "    qc = QuantumCircuit(n_qubits[i],10)\n",
    "    for j in range(n_qubits[i]):\n",
    "        qc.h(j)\n",
    "        if j != 0:\n",
    "            qc.cx(0,j)\n",
    "    qc.measure(range(10),range(10))\n",
    "    circuits += [qc]\n",
    "circuits3 = circuits"
   ]
  },
  {
   "cell_type": "code",
   "execution_count": 92,
   "id": "d12efea3-abfd-4d4e-ae66-a40ce753c956",
   "metadata": {
    "tags": []
   },
   "outputs": [
    {
     "name": "stdout",
     "output_type": "stream",
     "text": [
      "Device 1 Job id: ci3b2413lqnvrkqc0avg\n",
      "Device 2 Job id: ci3b249cinbchsiopljg\n",
      "Device 3 Job id: ci3b2493lqnvrkqc0b7g\n"
     ]
    }
   ],
   "source": [
    "circuits = circuits3\n",
    "\n",
    "jobs = [] \n",
    "options = Options(optimization_level=3, resilience_level=1)\n",
    "for i in range(3):\n",
    "    with Session(backend = service.backend(devices[i])):\n",
    "        sampler = Sampler(options=options)\n",
    "        s_job = sampler.run(circuits[i])\n",
    "    jobs += [s_job]\n",
    "    print(f\"Device {i+1} Job id: {s_job.job_id()}\")"
   ]
  },
  {
   "cell_type": "code",
   "execution_count": 93,
   "id": "ba7f8d89-0daa-454a-a3ac-4ee1556660db",
   "metadata": {
    "tags": []
   },
   "outputs": [
    {
     "name": "stdout",
     "output_type": "stream",
     "text": [
      "Device 1 Job id: ci3b24gihcilpv01hk0g\n",
      "Device 2 Job id: ci3b24p3lqnvrkqc0be0\n",
      "Device 3 Job id: ci3b24p3lqnvrkqc0big\n"
     ]
    }
   ],
   "source": [
    "circuits = circuits3\n",
    "\n",
    "jobs = [] \n",
    "options = Options(optimization_level=3, resilience_level=0)\n",
    "for i in range(3):\n",
    "    with Session(backend = service.backend(devices[i])):\n",
    "        sampler = Sampler(options=options)\n",
    "        s_job = sampler.run(circuits[i])\n",
    "    jobs += [s_job]\n",
    "    print(f\"Device {i+1} Job id: {s_job.job_id()}\")"
   ]
  },
  {
   "cell_type": "code",
   "execution_count": 5,
   "id": "635fa90a-6b5c-4f78-b963-b19a45e06d95",
   "metadata": {},
   "outputs": [],
   "source": [
    "job_id = [\"ci1c2milnlj7ii9fkjj0\",\"ci1c2mukcccjrh119d00\",\"ci1c35gihcilpv6bt4i0\",\"ci1c35u1o26hu32aosb0\",\"ci1c3i1cinbchsh2sd40\",\"ci1c3i9cinbchsh2sd9g\",\"ci1c3iilnlj7ii9flcs0\",\"ci1c3ioihcilpv6btgv0\",\"ci3b2413lqnvrkqc0avg\",\"ci3b249cinbchsiopljg\",\"ci3b24gihcilpv01hk0g\",\"ci3b24p3lqnvrkqc0be0\"]"
   ]
  },
  {
   "cell_type": "code",
   "execution_count": 41,
   "id": "6a5d0a3e-3fb9-47de-b057-cd85e03f35a7",
   "metadata": {
    "tags": []
   },
   "outputs": [],
   "source": [
    "index_table = pd.DataFrame([[[format(i, '#012b')[2:] for i in s_result.quasi_dists[0].keys()][k][j]==\"0\" for j in range(10)] for k in range(len(s_result.quasi_dists[0]))])\n",
    "[sum(np.array(list(s_result.quasi_dists[0].values()))[index_table.iloc[:,i].values]) for i in range(10)]"
   ]
  },
  {
   "cell_type": "code",
   "execution_count": 7,
   "id": "9773fbfc-9c45-4d0a-ba89-fa3d06195634",
   "metadata": {
    "tags": []
   },
   "outputs": [],
   "source": [
    "result = []\n",
    "\n",
    "for i in range(12):\n",
    "    job = service.job(job_id[i])\n",
    "    s_result = job.result()\n",
    "    index_table = pd.DataFrame([[[format(i, '#012b')[2:] for i in s_result.quasi_dists[0].keys()][k][j]==\"1\" for j in range(10)] for k in range(len(s_result.quasi_dists[0]))])\n",
    "    result += [[sum(np.array(list(s_result.quasi_dists[0].values()))[index_table.iloc[:,i].values]) for i in range(10)]]"
   ]
  },
  {
   "cell_type": "code",
   "execution_count": 9,
   "id": "04f9ecb7-e253-48c5-959d-397322794020",
   "metadata": {
    "tags": []
   },
   "outputs": [],
   "source": [
    "result = pd.DataFrame(result)\n",
    "result[\"device\"] = [\"Kolkata\",\"Nazca\",\"Kolkata\",\"Nazca\",\"Kolkata\",\"Nazca\",\"Kolkata\",\"Nazca\",\"Kolkata\",\"Nazca\",\"Kolkata\",\"Nazca\"]\n",
    "result[\"resilence\"] = [1,1,0,0,1,1,0,0,1,1,0,0]\n",
    "result[\"test_type\"] = [\"x_test\",\"x_test\",\"x_test\",\"x_test\",\"h_test\",\"h_test\",\"h_test\",\"h_test\",\"cx_test\",\"cx_test\",\"cx_test\",\"cx_test\"]"
   ]
  },
  {
   "cell_type": "code",
   "execution_count": 10,
   "id": "b5c0c344-e96a-4c74-bf75-4420205b06ee",
   "metadata": {
    "tags": []
   },
   "outputs": [
    {
     "data": {
      "text/html": [
       "<div>\n",
       "<style scoped>\n",
       "    .dataframe tbody tr th:only-of-type {\n",
       "        vertical-align: middle;\n",
       "    }\n",
       "\n",
       "    .dataframe tbody tr th {\n",
       "        vertical-align: top;\n",
       "    }\n",
       "\n",
       "    .dataframe thead th {\n",
       "        text-align: right;\n",
       "    }\n",
       "</style>\n",
       "<table border=\"1\" class=\"dataframe\">\n",
       "  <thead>\n",
       "    <tr style=\"text-align: right;\">\n",
       "      <th></th>\n",
       "      <th>0</th>\n",
       "      <th>1</th>\n",
       "      <th>2</th>\n",
       "      <th>3</th>\n",
       "      <th>4</th>\n",
       "      <th>5</th>\n",
       "      <th>6</th>\n",
       "      <th>7</th>\n",
       "      <th>8</th>\n",
       "      <th>9</th>\n",
       "      <th>device</th>\n",
       "      <th>resilence</th>\n",
       "      <th>test_type</th>\n",
       "    </tr>\n",
       "  </thead>\n",
       "  <tbody>\n",
       "    <tr>\n",
       "      <th>0</th>\n",
       "      <td>0.994448</td>\n",
       "      <td>0.963609</td>\n",
       "      <td>0.992891</td>\n",
       "      <td>0.991868</td>\n",
       "      <td>0.964012</td>\n",
       "      <td>0.988824</td>\n",
       "      <td>0.993855</td>\n",
       "      <td>0.997895</td>\n",
       "      <td>1.000552</td>\n",
       "      <td>1.001752</td>\n",
       "      <td>Kolkata</td>\n",
       "      <td>1</td>\n",
       "      <td>x_test</td>\n",
       "    </tr>\n",
       "    <tr>\n",
       "      <th>1</th>\n",
       "      <td>0.790646</td>\n",
       "      <td>0.986763</td>\n",
       "      <td>0.958818</td>\n",
       "      <td>1.000653</td>\n",
       "      <td>0.994646</td>\n",
       "      <td>0.919160</td>\n",
       "      <td>0.991253</td>\n",
       "      <td>0.973861</td>\n",
       "      <td>1.116590</td>\n",
       "      <td>1.006289</td>\n",
       "      <td>Nazca</td>\n",
       "      <td>1</td>\n",
       "      <td>x_test</td>\n",
       "    </tr>\n",
       "    <tr>\n",
       "      <th>2</th>\n",
       "      <td>0.864750</td>\n",
       "      <td>0.955250</td>\n",
       "      <td>0.969500</td>\n",
       "      <td>0.938750</td>\n",
       "      <td>0.938000</td>\n",
       "      <td>0.947750</td>\n",
       "      <td>0.977000</td>\n",
       "      <td>0.956000</td>\n",
       "      <td>0.984750</td>\n",
       "      <td>0.950000</td>\n",
       "      <td>Kolkata</td>\n",
       "      <td>0</td>\n",
       "      <td>x_test</td>\n",
       "    </tr>\n",
       "    <tr>\n",
       "      <th>3</th>\n",
       "      <td>0.711000</td>\n",
       "      <td>0.815500</td>\n",
       "      <td>0.832250</td>\n",
       "      <td>0.897750</td>\n",
       "      <td>0.853500</td>\n",
       "      <td>0.895000</td>\n",
       "      <td>0.983750</td>\n",
       "      <td>0.974750</td>\n",
       "      <td>0.939000</td>\n",
       "      <td>0.909500</td>\n",
       "      <td>Nazca</td>\n",
       "      <td>0</td>\n",
       "      <td>x_test</td>\n",
       "    </tr>\n",
       "    <tr>\n",
       "      <th>4</th>\n",
       "      <td>0.491829</td>\n",
       "      <td>0.475701</td>\n",
       "      <td>0.492545</td>\n",
       "      <td>0.495747</td>\n",
       "      <td>0.467230</td>\n",
       "      <td>0.491312</td>\n",
       "      <td>0.489392</td>\n",
       "      <td>0.496031</td>\n",
       "      <td>0.492793</td>\n",
       "      <td>0.493000</td>\n",
       "      <td>Kolkata</td>\n",
       "      <td>1</td>\n",
       "      <td>h_test</td>\n",
       "    </tr>\n",
       "    <tr>\n",
       "      <th>5</th>\n",
       "      <td>0.365177</td>\n",
       "      <td>0.540259</td>\n",
       "      <td>0.489887</td>\n",
       "      <td>0.475512</td>\n",
       "      <td>0.521431</td>\n",
       "      <td>0.546605</td>\n",
       "      <td>0.497087</td>\n",
       "      <td>0.562272</td>\n",
       "      <td>0.481627</td>\n",
       "      <td>0.500418</td>\n",
       "      <td>Nazca</td>\n",
       "      <td>1</td>\n",
       "      <td>h_test</td>\n",
       "    </tr>\n",
       "    <tr>\n",
       "      <th>6</th>\n",
       "      <td>0.527750</td>\n",
       "      <td>0.535000</td>\n",
       "      <td>0.541750</td>\n",
       "      <td>0.497750</td>\n",
       "      <td>0.503000</td>\n",
       "      <td>0.503000</td>\n",
       "      <td>0.573500</td>\n",
       "      <td>0.496250</td>\n",
       "      <td>0.481750</td>\n",
       "      <td>0.489250</td>\n",
       "      <td>Kolkata</td>\n",
       "      <td>0</td>\n",
       "      <td>h_test</td>\n",
       "    </tr>\n",
       "    <tr>\n",
       "      <th>7</th>\n",
       "      <td>0.452250</td>\n",
       "      <td>0.406750</td>\n",
       "      <td>0.517750</td>\n",
       "      <td>0.518750</td>\n",
       "      <td>0.476750</td>\n",
       "      <td>0.557500</td>\n",
       "      <td>0.520000</td>\n",
       "      <td>0.572000</td>\n",
       "      <td>0.485750</td>\n",
       "      <td>0.489250</td>\n",
       "      <td>Nazca</td>\n",
       "      <td>0</td>\n",
       "      <td>h_test</td>\n",
       "    </tr>\n",
       "    <tr>\n",
       "      <th>8</th>\n",
       "      <td>0.465397</td>\n",
       "      <td>0.492003</td>\n",
       "      <td>0.461987</td>\n",
       "      <td>0.430805</td>\n",
       "      <td>0.514230</td>\n",
       "      <td>0.473057</td>\n",
       "      <td>0.506235</td>\n",
       "      <td>0.502848</td>\n",
       "      <td>0.508009</td>\n",
       "      <td>0.016433</td>\n",
       "      <td>Kolkata</td>\n",
       "      <td>1</td>\n",
       "      <td>cx_test</td>\n",
       "    </tr>\n",
       "    <tr>\n",
       "      <th>9</th>\n",
       "      <td>0.497067</td>\n",
       "      <td>0.500166</td>\n",
       "      <td>0.405965</td>\n",
       "      <td>0.504563</td>\n",
       "      <td>0.498810</td>\n",
       "      <td>0.510840</td>\n",
       "      <td>0.503513</td>\n",
       "      <td>0.504028</td>\n",
       "      <td>0.495038</td>\n",
       "      <td>0.492283</td>\n",
       "      <td>Nazca</td>\n",
       "      <td>1</td>\n",
       "      <td>cx_test</td>\n",
       "    </tr>\n",
       "    <tr>\n",
       "      <th>10</th>\n",
       "      <td>0.601000</td>\n",
       "      <td>0.542750</td>\n",
       "      <td>0.540250</td>\n",
       "      <td>0.456000</td>\n",
       "      <td>0.480750</td>\n",
       "      <td>0.589000</td>\n",
       "      <td>0.997000</td>\n",
       "      <td>0.484750</td>\n",
       "      <td>0.510000</td>\n",
       "      <td>0.307750</td>\n",
       "      <td>Kolkata</td>\n",
       "      <td>0</td>\n",
       "      <td>cx_test</td>\n",
       "    </tr>\n",
       "    <tr>\n",
       "      <th>11</th>\n",
       "      <td>0.497250</td>\n",
       "      <td>0.502250</td>\n",
       "      <td>0.496750</td>\n",
       "      <td>0.482250</td>\n",
       "      <td>0.468500</td>\n",
       "      <td>0.510000</td>\n",
       "      <td>0.476250</td>\n",
       "      <td>0.456750</td>\n",
       "      <td>0.515500</td>\n",
       "      <td>0.446250</td>\n",
       "      <td>Nazca</td>\n",
       "      <td>0</td>\n",
       "      <td>cx_test</td>\n",
       "    </tr>\n",
       "  </tbody>\n",
       "</table>\n",
       "</div>"
      ],
      "text/plain": [
       "           0         1         2         3         4         5         6  \\\n",
       "0   0.994448  0.963609  0.992891  0.991868  0.964012  0.988824  0.993855   \n",
       "1   0.790646  0.986763  0.958818  1.000653  0.994646  0.919160  0.991253   \n",
       "2   0.864750  0.955250  0.969500  0.938750  0.938000  0.947750  0.977000   \n",
       "3   0.711000  0.815500  0.832250  0.897750  0.853500  0.895000  0.983750   \n",
       "4   0.491829  0.475701  0.492545  0.495747  0.467230  0.491312  0.489392   \n",
       "5   0.365177  0.540259  0.489887  0.475512  0.521431  0.546605  0.497087   \n",
       "6   0.527750  0.535000  0.541750  0.497750  0.503000  0.503000  0.573500   \n",
       "7   0.452250  0.406750  0.517750  0.518750  0.476750  0.557500  0.520000   \n",
       "8   0.465397  0.492003  0.461987  0.430805  0.514230  0.473057  0.506235   \n",
       "9   0.497067  0.500166  0.405965  0.504563  0.498810  0.510840  0.503513   \n",
       "10  0.601000  0.542750  0.540250  0.456000  0.480750  0.589000  0.997000   \n",
       "11  0.497250  0.502250  0.496750  0.482250  0.468500  0.510000  0.476250   \n",
       "\n",
       "           7         8         9   device  resilence test_type  \n",
       "0   0.997895  1.000552  1.001752  Kolkata          1    x_test  \n",
       "1   0.973861  1.116590  1.006289    Nazca          1    x_test  \n",
       "2   0.956000  0.984750  0.950000  Kolkata          0    x_test  \n",
       "3   0.974750  0.939000  0.909500    Nazca          0    x_test  \n",
       "4   0.496031  0.492793  0.493000  Kolkata          1    h_test  \n",
       "5   0.562272  0.481627  0.500418    Nazca          1    h_test  \n",
       "6   0.496250  0.481750  0.489250  Kolkata          0    h_test  \n",
       "7   0.572000  0.485750  0.489250    Nazca          0    h_test  \n",
       "8   0.502848  0.508009  0.016433  Kolkata          1   cx_test  \n",
       "9   0.504028  0.495038  0.492283    Nazca          1   cx_test  \n",
       "10  0.484750  0.510000  0.307750  Kolkata          0   cx_test  \n",
       "11  0.456750  0.515500  0.446250    Nazca          0   cx_test  "
      ]
     },
     "execution_count": 10,
     "metadata": {},
     "output_type": "execute_result"
    }
   ],
   "source": [
    "result"
   ]
  },
  {
   "cell_type": "code",
   "execution_count": 12,
   "id": "577cb632-cfa5-491b-bd9c-0520f8aebe54",
   "metadata": {
    "tags": []
   },
   "outputs": [],
   "source": [
    "plot_data = pd.DataFrame(result.iloc[:,:10].values.flatten())\n",
    "plot_data[\"device\"] = [i for i in result[\"device\"].values for j in range(10)]\n",
    "plot_data[\"resilience\"] = [i for i in result[\"resilence\"].values for j in range(10)]\n",
    "plot_data[\"test_type\"] = [i for i in result[\"test_type\"].values for j in range(10)]\n",
    "plot_data[\"qubit\"] = [i  for j in range(12) for i in range(10) ]\n",
    "plot_data.columns = [\"ratio\"]+plot_data.columns[1:].values.tolist()"
   ]
  },
  {
   "cell_type": "code",
   "execution_count": 15,
   "id": "8791b6be-fdd2-4193-bdb8-8bf11ced1cca",
   "metadata": {
    "tags": []
   },
   "outputs": [
    {
     "data": {
      "image/png": "[encoded data removed]",
      "text/plain": [
       "<Figure size 1500x1000 with 6 Axes>"
      ]
     },
     "metadata": {},
     "output_type": "display_data"
    }
   ],
   "source": [
    "plt.figure(figsize=(15,10))\n",
    "\n",
    "plt.subplot(231)\n",
    "sns.barplot(x=\"qubit\",y=\"ratio\",hue=\"resilience\",data=plot_data.loc[plot_data[\"device\"]==\"Kolkata\",:].iloc[:20,:])\n",
    "plt.axhline(1.0,-0.5,9.5,color=\"red\")\n",
    "plt.legend(loc = 3,title='Resilience Level')\n",
    "plt.ylim(0.6,1.1)\n",
    "plt.title(\"Kolkata,X test\")\n",
    "\n",
    "plt.subplot(232)\n",
    "sns.barplot(x=\"qubit\",y=\"ratio\",hue=\"resilience\",data=plot_data.loc[plot_data[\"device\"]==\"Kolkata\",:].iloc[20:40,:])\n",
    "plt.axhline(0.5,-0.5,9.5,color=\"red\")\n",
    "plt.legend(loc = 3,title='Resilience Level')\n",
    "plt.ylim(0.25,0.75)\n",
    "plt.title(\"Kolkata,H test\")\n",
    "\n",
    "plt.subplot(233)\n",
    "sns.barplot(x=\"qubit\",y=\"ratio\",hue=\"resilience\",data=plot_data.loc[plot_data[\"device\"]==\"Kolkata\",:].iloc[40:60,:])\n",
    "plt.axhline(0.5,-0.5,9.5,color=\"red\")\n",
    "plt.legend(loc = 3,title='Resilience Level')\n",
    "plt.ylim(0.25,0.75)\n",
    "plt.title(\"Kolkata, cx test\")\n",
    "\n",
    "plt.subplot(234)\n",
    "sns.barplot(x=\"qubit\",y=\"ratio\",hue=\"resilience\",data=plot_data.loc[plot_data[\"device\"]==\"Nazca\",:].iloc[:20,:])\n",
    "plt.axhline(1.0,-0.5,9.5,color=\"red\")\n",
    "plt.legend(loc = 3,title='Resilience Level')\n",
    "plt.ylim(0.6,1.1)\n",
    "plt.title(\"Nazca,X test\")\n",
    "\n",
    "plt.subplot(235)\n",
    "sns.barplot(x=\"qubit\",y=\"ratio\",hue=\"resilience\",data=plot_data.loc[plot_data[\"device\"]==\"Nazca\",:].iloc[20:40,:])\n",
    "plt.axhline(0.5,-0.5,9.5,color=\"red\")\n",
    "plt.legend(loc = 3,title='Resilience Level')\n",
    "plt.ylim(0.25,0.75)\n",
    "plt.title(\"Nazca,H test\")\n",
    "\n",
    "\n",
    "plt.subplot(236)\n",
    "sns.barplot(x=\"qubit\",y=\"ratio\",hue=\"resilience\",data=plot_data.loc[plot_data[\"device\"]==\"Nazca\",:].iloc[40:60,:])\n",
    "plt.axhline(0.5,-0.5,9.5,color=\"red\")\n",
    "plt.legend(loc = 3,title='Resilience Level')\n",
    "plt.ylim(0.25,0.75)\n",
    "plt.title(\"Nazca, cx test\")\n",
    "\n",
    "\n",
    "plt.show()"
   ]
  },
  {
   "cell_type": "code",
   "execution_count": null,
   "id": "ae1b4d1e-0cf2-452b-b704-feca54e021b6",
   "metadata": {},
   "outputs": [],
   "source": [
    "sns.barplot(x=\"qubit\",y=0,hue=\"resilience\",data=plot_data.loc[plot_data[\"device\"]==\"Kolkata\",:].iloc[:20,:])\n",
    "plt.axhline(1.0,-0.5,9.5,color=\"red\")\n",
    "plt.legend(loc = 3)\n",
    "plt.show()"
   ]
  },
  {
   "cell_type": "code",
   "execution_count": 63,
   "id": "ba66dee0-fd7b-4862-9e12-12f00717cd8c",
   "metadata": {
    "tags": []
   },
   "outputs": [
    {
     "data": {
      "image/png": "[encoded data removed]",
      "text/plain": [
       "<Figure size 1000x1000 with 8 Axes>"
      ]
     },
     "metadata": {},
     "output_type": "display_data"
    }
   ],
   "source": [
    "plt.figure(figsize=(10,10))\n",
    "\n",
    "for i in range(8):\n",
    "    job = service.job(job_id[i])\n",
    "    s_result = job.result()\n",
    "    index_table = pd.DataFrame([[[format(i, '#012b')[2:] for i in s_result.quasi_dists[0].keys()][k][j]==\"1\" for j in range(10)] for k in range(len(s_result.quasi_dists[0]))])\n",
    "    plt.subplot(2,4,i+1)\n",
    "    plt.bar(x=range(10),height=[sum(np.array(list(s_result.quasi_dists[0].values()))[index_table.iloc[:,i].values]) for i in range(10)])\n",
    "    plt.ylim(0,1)\n",
    "    \n",
    "plt.show()"
   ]
  },
  {
   "cell_type": "code",
   "execution_count": 236,
   "id": "149a494e-1883-4a5a-aa5f-88889987713a",
   "metadata": {
    "tags": []
   },
   "outputs": [],
   "source": [
    "result = []\n",
    "for i in range(4) :\n",
    "    job = service.job(job_id[i])\n",
    "    s_result = job.result()\n",
    "    result += [s_result.quasi_dists[0][1023]]\n"
   ]
  },
  {
   "cell_type": "code",
   "execution_count": 248,
   "id": "181ab1ff-0da7-46ac-abdb-0fa01080ca13",
   "metadata": {
    "tags": []
   },
   "outputs": [],
   "source": [
    "ratio = pd.DataFrame(result)\n",
    "ratio.columns = [\"ratio\"]\n",
    "ratio[\"Device\"] = [\"Kolkata\",\"Nazca\",\"Kolkata\",\"Nazca\"]\n",
    "ratio[\"Resilience Level\"] = [1,1,0,0] \n"
   ]
  },
  {
   "cell_type": "code",
   "execution_count": 250,
   "id": "87a7ee80-85a6-4000-af07-703d8fbd1e87",
   "metadata": {
    "tags": []
   },
   "outputs": [
    {
     "data": {
      "text/html": [
       "<div>\n",
       "<style scoped>\n",
       "    .dataframe tbody tr th:only-of-type {\n",
       "        vertical-align: middle;\n",
       "    }\n",
       "\n",
       "    .dataframe tbody tr th {\n",
       "        vertical-align: top;\n",
       "    }\n",
       "\n",
       "    .dataframe thead th {\n",
       "        text-align: right;\n",
       "    }\n",
       "</style>\n",
       "<table border=\"1\" class=\"dataframe\">\n",
       "  <thead>\n",
       "    <tr style=\"text-align: right;\">\n",
       "      <th></th>\n",
       "      <th>ratio</th>\n",
       "      <th>Device</th>\n",
       "      <th>Resilience Level</th>\n",
       "    </tr>\n",
       "  </thead>\n",
       "  <tbody>\n",
       "    <tr>\n",
       "      <th>0</th>\n",
       "      <td>0.909355</td>\n",
       "      <td>Kolkata</td>\n",
       "      <td>1</td>\n",
       "    </tr>\n",
       "    <tr>\n",
       "      <th>1</th>\n",
       "      <td>0.789001</td>\n",
       "      <td>Nazca</td>\n",
       "      <td>1</td>\n",
       "    </tr>\n",
       "    <tr>\n",
       "      <th>2</th>\n",
       "      <td>0.581000</td>\n",
       "      <td>Kolkata</td>\n",
       "      <td>0</td>\n",
       "    </tr>\n",
       "    <tr>\n",
       "      <th>3</th>\n",
       "      <td>0.260500</td>\n",
       "      <td>Nazca</td>\n",
       "      <td>0</td>\n",
       "    </tr>\n",
       "  </tbody>\n",
       "</table>\n",
       "</div>"
      ],
      "text/plain": [
       "      ratio   Device  Resilience Level\n",
       "0  0.909355  Kolkata                 1\n",
       "1  0.789001    Nazca                 1\n",
       "2  0.581000  Kolkata                 0\n",
       "3  0.260500    Nazca                 0"
      ]
     },
     "execution_count": 250,
     "metadata": {},
     "output_type": "execute_result"
    }
   ],
   "source": [
    "ratio"
   ]
  },
  {
   "cell_type": "code",
   "execution_count": 253,
   "id": "f818cd92-3f04-4f9f-90b0-d94445627c13",
   "metadata": {
    "tags": []
   },
   "outputs": [
    {
     "data": {
      "text/html": [
       "<div>\n",
       "<style scoped>\n",
       "    .dataframe tbody tr th:only-of-type {\n",
       "        vertical-align: middle;\n",
       "    }\n",
       "\n",
       "    .dataframe tbody tr th {\n",
       "        vertical-align: top;\n",
       "    }\n",
       "\n",
       "    .dataframe thead th {\n",
       "        text-align: right;\n",
       "    }\n",
       "</style>\n",
       "<table border=\"1\" class=\"dataframe\">\n",
       "  <thead>\n",
       "    <tr style=\"text-align: right;\">\n",
       "      <th></th>\n",
       "      <th>Kolkata</th>\n",
       "      <th>Nazca</th>\n",
       "    </tr>\n",
       "  </thead>\n",
       "  <tbody>\n",
       "    <tr>\n",
       "      <th>Resilience Level = 1</th>\n",
       "      <td>0.909355</td>\n",
       "      <td>0.789001</td>\n",
       "    </tr>\n",
       "    <tr>\n",
       "      <th>Resilience Level = 0</th>\n",
       "      <td>0.581000</td>\n",
       "      <td>0.260500</td>\n",
       "    </tr>\n",
       "  </tbody>\n",
       "</table>\n",
       "</div>"
      ],
      "text/plain": [
       "                       Kolkata     Nazca\n",
       "Resilience Level = 1  0.909355  0.789001\n",
       "Resilience Level = 0  0.581000  0.260500"
      ]
     },
     "execution_count": 253,
     "metadata": {},
     "output_type": "execute_result"
    }
   ],
   "source": [
    "result = pd.DataFrame(ratio[\"ratio\"].values.reshape(2,2))\n",
    "result.columns = [\"Kolkata\",\"Nazca\"]\n",
    "result.index = [\"Resilience Level = 1\",\"Resilience Level = 0\"]\n",
    "result"
   ]
  },
  {
   "cell_type": "code",
   "execution_count": 246,
   "id": "2ee2d36a-0ca7-4c9b-8eb0-b52f661848cc",
   "metadata": {
    "tags": []
   },
   "outputs": [
    {
     "data": {
      "image/png": "[encoded data removed]",
      "text/plain": [
       "<Figure size 640x480 with 1 Axes>"
      ]
     },
     "metadata": {},
     "output_type": "display_data"
    }
   ],
   "source": [
    "sns.barplot(data = ratio, x = \"Device\" , y = \"ratio\", hue = \"Resilience Level\")\n",
    "plt.show()"
   ]
  },
  {
   "cell_type": "code",
   "execution_count": null,
   "id": "efd73bc5-9b0c-4fce-b980-b0abb85fc2f7",
   "metadata": {},
   "outputs": [],
   "source": []
  },
  {
   "cell_type": "code",
   "execution_count": 9,
   "id": "2f2a1604-57ed-4d6a-9da8-39d2c89adc83",
   "metadata": {},
   "outputs": [],
   "source": [
    "result = []\n",
    "for i in range(4) :\n",
    "    job = service.job(job_id[i+4])\n",
    "    s_result = job.result()\n",
    "    frame = pd.DataFrame([1/1024 for i in range(1024)],columns = [\"theo\"])\n",
    "    df = pd.DataFrame([0 for i in range(1024)],columns=['test'])\n",
    "    for key, value in s_result.quasi_dists[0].items():\n",
    "        df.loc[key] = value\n",
    "\n",
    "    frame[\"test\"] = df\n",
    "    result += [np.sqrt(sum((frame[\"test\"]-frame[\"theo\"])**2))]\n",
    "result = 1-np.array(result)"
   ]
  },
  {
   "cell_type": "code",
   "execution_count": 10,
   "id": "f4178915-cf54-4128-969c-55c15b78c5b5",
   "metadata": {
    "tags": []
   },
   "outputs": [],
   "source": [
    "ratio = pd.DataFrame(result)\n",
    "ratio.columns = [\"ratio\"]\n",
    "ratio[\"Device\"] = [\"Kolkata\",\"Nazca\",\"Kolkata\",\"Nazca\"]\n",
    "ratio[\"Resilience Level\"] = [1,1,0,0] \n"
   ]
  },
  {
   "cell_type": "code",
   "execution_count": 11,
   "id": "f6e22367-7e51-4499-80d3-097d7b701d45",
   "metadata": {
    "tags": []
   },
   "outputs": [
    {
     "data": {
      "text/html": [
       "<div>\n",
       "<style scoped>\n",
       "    .dataframe tbody tr th:only-of-type {\n",
       "        vertical-align: middle;\n",
       "    }\n",
       "\n",
       "    .dataframe tbody tr th {\n",
       "        vertical-align: top;\n",
       "    }\n",
       "\n",
       "    .dataframe thead th {\n",
       "        text-align: right;\n",
       "    }\n",
       "</style>\n",
       "<table border=\"1\" class=\"dataframe\">\n",
       "  <thead>\n",
       "    <tr style=\"text-align: right;\">\n",
       "      <th></th>\n",
       "      <th>ratio</th>\n",
       "      <th>Device</th>\n",
       "      <th>Resilience Level</th>\n",
       "    </tr>\n",
       "  </thead>\n",
       "  <tbody>\n",
       "    <tr>\n",
       "      <th>0</th>\n",
       "      <td>0.965590</td>\n",
       "      <td>Kolkata</td>\n",
       "      <td>1</td>\n",
       "    </tr>\n",
       "    <tr>\n",
       "      <th>1</th>\n",
       "      <td>0.930827</td>\n",
       "      <td>Nazca</td>\n",
       "      <td>1</td>\n",
       "    </tr>\n",
       "    <tr>\n",
       "      <th>2</th>\n",
       "      <td>0.982808</td>\n",
       "      <td>Kolkata</td>\n",
       "      <td>0</td>\n",
       "    </tr>\n",
       "    <tr>\n",
       "      <th>3</th>\n",
       "      <td>0.981257</td>\n",
       "      <td>Nazca</td>\n",
       "      <td>0</td>\n",
       "    </tr>\n",
       "  </tbody>\n",
       "</table>\n",
       "</div>"
      ],
      "text/plain": [
       "      ratio   Device  Resilience Level\n",
       "0  0.965590  Kolkata                 1\n",
       "1  0.930827    Nazca                 1\n",
       "2  0.982808  Kolkata                 0\n",
       "3  0.981257    Nazca                 0"
      ]
     },
     "execution_count": 11,
     "metadata": {},
     "output_type": "execute_result"
    }
   ],
   "source": [
    "ratio"
   ]
  },
  {
   "cell_type": "code",
   "execution_count": 12,
   "id": "004759d1-1e64-437e-ae51-b619a495489b",
   "metadata": {
    "tags": []
   },
   "outputs": [
    {
     "data": {
      "image/png": "[encoded data removed]",
      "text/plain": [
       "<Figure size 640x480 with 1 Axes>"
      ]
     },
     "metadata": {},
     "output_type": "display_data"
    }
   ],
   "source": [
    "sns.barplot(data = ratio, x = \"Device\" , y = \"ratio\", hue = \"Resilience Level\")\n",
    "plt.legend(loc=3)\n",
    "plt.show()"
   ]
  },
  {
   "cell_type": "code",
   "execution_count": 13,
   "id": "24b78b52-2aaa-489f-a23d-588086093cca",
   "metadata": {
    "tags": []
   },
   "outputs": [],
   "source": [
    "result = []\n",
    "for i in range(4) :\n",
    "    job = service.job(job_id[i+8])\n",
    "    s_result = job.result()\n",
    "    frame = pd.DataFrame([1/1024 for i in range(1024)],columns = [\"theo\"])\n",
    "    df = pd.DataFrame([0 for i in range(1024)],columns=['test'])\n",
    "    for key, value in s_result.quasi_dists[0].items():\n",
    "        df.loc[key] = value\n",
    "\n",
    "    frame[\"test\"] = df\n",
    "    result += [np.sqrt(sum((frame[\"test\"]-frame[\"theo\"])**2))]\n",
    "result = 1-np.array(result)"
   ]
  },
  {
   "cell_type": "code",
   "execution_count": 14,
   "id": "74be0393-e167-4871-bfa7-4371a964bba5",
   "metadata": {
    "tags": []
   },
   "outputs": [
    {
     "data": {
      "text/html": [
       "<div>\n",
       "<style scoped>\n",
       "    .dataframe tbody tr th:only-of-type {\n",
       "        vertical-align: middle;\n",
       "    }\n",
       "\n",
       "    .dataframe tbody tr th {\n",
       "        vertical-align: top;\n",
       "    }\n",
       "\n",
       "    .dataframe thead th {\n",
       "        text-align: right;\n",
       "    }\n",
       "</style>\n",
       "<table border=\"1\" class=\"dataframe\">\n",
       "  <thead>\n",
       "    <tr style=\"text-align: right;\">\n",
       "      <th></th>\n",
       "      <th>ratio</th>\n",
       "      <th>Device</th>\n",
       "      <th>Resilience Level</th>\n",
       "    </tr>\n",
       "  </thead>\n",
       "  <tbody>\n",
       "    <tr>\n",
       "      <th>0</th>\n",
       "      <td>0.957782</td>\n",
       "      <td>Kolkata</td>\n",
       "      <td>1</td>\n",
       "    </tr>\n",
       "    <tr>\n",
       "      <th>1</th>\n",
       "      <td>0.978244</td>\n",
       "      <td>Nazca</td>\n",
       "      <td>1</td>\n",
       "    </tr>\n",
       "    <tr>\n",
       "      <th>2</th>\n",
       "      <td>0.956512</td>\n",
       "      <td>Kolkata</td>\n",
       "      <td>0</td>\n",
       "    </tr>\n",
       "    <tr>\n",
       "      <th>3</th>\n",
       "      <td>0.983754</td>\n",
       "      <td>Nazca</td>\n",
       "      <td>0</td>\n",
       "    </tr>\n",
       "  </tbody>\n",
       "</table>\n",
       "</div>"
      ],
      "text/plain": [
       "      ratio   Device  Resilience Level\n",
       "0  0.957782  Kolkata                 1\n",
       "1  0.978244    Nazca                 1\n",
       "2  0.956512  Kolkata                 0\n",
       "3  0.983754    Nazca                 0"
      ]
     },
     "execution_count": 14,
     "metadata": {},
     "output_type": "execute_result"
    }
   ],
   "source": [
    "ratio = pd.DataFrame(result)\n",
    "ratio.columns = [\"ratio\"]\n",
    "ratio[\"Device\"] = [\"Kolkata\",\"Nazca\",\"Kolkata\",\"Nazca\"]\n",
    "ratio[\"Resilience Level\"] = [1,1,0,0] \n",
    "ratio"
   ]
  },
  {
   "cell_type": "code",
   "execution_count": 15,
   "id": "deff894b-aac2-4821-802d-830497873b98",
   "metadata": {},
   "outputs": [
    {
     "data": {
      "image/png": "[encoded data removed]",
      "text/plain": [
       "<Figure size 640x480 with 1 Axes>"
      ]
     },
     "metadata": {},
     "output_type": "display_data"
    }
   ],
   "source": [
    "sns.barplot(data = ratio, x = \"Device\" , y = \"ratio\", hue = \"Resilience Level\")\n",
    "plt.legend(loc=3)\n",
    "plt.show()"
   ]
  },
  {
   "cell_type": "code",
   "execution_count": null,
   "id": "7f28033e-c1f7-45fa-b7d8-8fb2eac2bfaa",
   "metadata": {},
   "outputs": [],
   "source": []
  }
 ],
 "metadata": {
  "kernelspec": {
   "display_name": "Python 3 (ipykernel)",
   "language": "python",
   "name": "python3"
  },
  "language_info": {
   "codemirror_mode": {
    "name": "ipython",
    "version": 3
   },
   "file_extension": ".py",
   "mimetype": "text/x-python",
   "name": "python",
   "nbconvert_exporter": "python",
   "pygments_lexer": "ipython3",
   "version": "3.10.8"
  },
  "widgets": {
   "application/vnd.jupyter.widget-state+json": {
    "state": {
     "0802c7cd0c354261af172e350026f614": {
      "model_module": "@jupyter-widgets/base",
      "model_module_version": "2.0.0",
      "model_name": "LayoutModel",
      "state": {
       "width": "190px"
      }
     },
     "0f0b27955b2440d2af33cc196330b20c": {
      "model_module": "@jupyter-widgets/controls",
      "model_module_version": "2.0.0",
      "model_name": "HTMLModel",
      "state": {
       "layout": "IPY_MODEL_630d3437458e4b679f81c9b3e610038c",
       "style": "IPY_MODEL_94b1f9bc9cbc4a4fa77ec216a85668f7",
       "value": "<h5>Queue</h5>"
      }
     },
     "2b0929c284c249be96af89c477bb7924": {
      "model_module": "@jupyter-widgets/controls",
      "model_module_version": "2.0.0",
      "model_name": "ButtonModel",
      "state": {
       "button_style": "primary",
       "description": "Clear",
       "layout": "IPY_MODEL_d0d5b6e4884644fab8efcfec78352e52",
       "style": "IPY_MODEL_38f87042867f4cbe9e5b8d231057cff4",
       "tooltip": null
      }
     },
     "35c74028102845d18d41f7b0352e6718": {
      "model_module": "@jupyter-widgets/controls",
      "model_module_version": "2.0.0",
      "model_name": "HTMLModel",
      "state": {
       "layout": "IPY_MODEL_f4fa7c57a4cd410b86514a44b10bab81",
       "style": "IPY_MODEL_fb724cdb041740feab4b8fc455a36e94",
       "value": "<h5>Backend</h5>"
      }
     },
     "38f87042867f4cbe9e5b8d231057cff4": {
      "model_module": "@jupyter-widgets/controls",
      "model_module_version": "2.0.0",
      "model_name": "ButtonStyleModel",
      "state": {
       "font_family": null,
       "font_size": null,
       "font_style": null,
       "font_variant": null,
       "font_weight": null,
       "text_color": null,
       "text_decoration": null
      }
     },
     "39b841ca53f040edbb1898d39ece3645": {
      "model_module": "@jupyter-widgets/controls",
      "model_module_version": "2.0.0",
      "model_name": "HTMLModel",
      "state": {
       "layout": "IPY_MODEL_f19a9fa1890c48b5b9207e2b320630a4",
       "style": "IPY_MODEL_477986a461f14b96bd9cb408dba0d31b",
       "value": "<p style='font-family: IBM Plex Sans, Arial, Helvetica, sans-serif; font-size: 20px; font-weight: medium;'>Circuit Properties</p>"
      }
     },
     "442209dc4d4b4d849181ada992631659": {
      "model_module": "@jupyter-widgets/base",
      "model_module_version": "2.0.0",
      "model_name": "LayoutModel",
      "state": {
       "grid_template_areas": "\n                                       \". . . . right \"\n                                        ",
       "grid_template_columns": "20% 20% 20% 20% 20%",
       "width": "100%"
      }
     },
     "477986a461f14b96bd9cb408dba0d31b": {
      "model_module": "@jupyter-widgets/controls",
      "model_module_version": "2.0.0",
      "model_name": "HTMLStyleModel",
      "state": {
       "description_width": "",
       "font_size": null,
       "text_color": null
      }
     },
     "47d81499e1c1486091c91f3b848f89d7": {
      "model_module": "@jupyter-widgets/controls",
      "model_module_version": "2.0.0",
      "model_name": "GridBoxModel",
      "state": {
       "children": [
        "IPY_MODEL_2b0929c284c249be96af89c477bb7924"
       ],
       "layout": "IPY_MODEL_442209dc4d4b4d849181ada992631659"
      }
     },
     "562fcfa6b17148cdae6a0c17b56f1974": {
      "model_module": "@jupyter-widgets/controls",
      "model_module_version": "2.0.0",
      "model_name": "HTMLModel",
      "state": {
       "layout": "IPY_MODEL_738160a5edf042709d798e2a238a8559",
       "style": "IPY_MODEL_5947a8638c09483d9417f395dc66fce1",
       "value": "<h5>Message</h5>"
      }
     },
     "5947a8638c09483d9417f395dc66fce1": {
      "model_module": "@jupyter-widgets/controls",
      "model_module_version": "2.0.0",
      "model_name": "HTMLStyleModel",
      "state": {
       "description_width": "",
       "font_size": null,
       "text_color": null
      }
     },
     "5b107c025c984964bf37975084edfb55": {
      "model_module": "@jupyter-widgets/controls",
      "model_module_version": "2.0.0",
      "model_name": "HTMLStyleModel",
      "state": {
       "description_width": "",
       "font_size": null,
       "text_color": null
      }
     },
     "630d3437458e4b679f81c9b3e610038c": {
      "model_module": "@jupyter-widgets/base",
      "model_module_version": "2.0.0",
      "model_name": "LayoutModel",
      "state": {
       "width": "70px"
      }
     },
     "738160a5edf042709d798e2a238a8559": {
      "model_module": "@jupyter-widgets/base",
      "model_module_version": "2.0.0",
      "model_name": "LayoutModel",
      "state": {}
     },
     "8990a4331d8d4eb58455f2b70502a4a5": {
      "model_module": "@jupyter-widgets/base",
      "model_module_version": "2.0.0",
      "model_name": "LayoutModel",
      "state": {
       "width": "95px"
      }
     },
     "947f59ceea284c41abba35aeffa16db8": {
      "model_module": "@jupyter-widgets/controls",
      "model_module_version": "2.0.0",
      "model_name": "HBoxModel",
      "state": {
       "children": [
        "IPY_MODEL_ec5522b837db412089672502a3c1a415",
        "IPY_MODEL_35c74028102845d18d41f7b0352e6718",
        "IPY_MODEL_9c4e6f73a5be4b849faa6cfcada1aa0f",
        "IPY_MODEL_0f0b27955b2440d2af33cc196330b20c",
        "IPY_MODEL_562fcfa6b17148cdae6a0c17b56f1974"
       ],
       "layout": "IPY_MODEL_e2a9f73a9bd2446bb3d83c3bf6181f27"
      }
     },
     "94b1f9bc9cbc4a4fa77ec216a85668f7": {
      "model_module": "@jupyter-widgets/controls",
      "model_module_version": "2.0.0",
      "model_name": "HTMLStyleModel",
      "state": {
       "description_width": "",
       "font_size": null,
       "text_color": null
      }
     },
     "9c4e6f73a5be4b849faa6cfcada1aa0f": {
      "model_module": "@jupyter-widgets/controls",
      "model_module_version": "2.0.0",
      "model_name": "HTMLModel",
      "state": {
       "layout": "IPY_MODEL_8990a4331d8d4eb58455f2b70502a4a5",
       "style": "IPY_MODEL_5b107c025c984964bf37975084edfb55",
       "value": "<h5>Status</h5>"
      }
     },
     "b4789b6d9b4c46639c84a862bbf2ca05": {
      "model_module": "@jupyter-widgets/controls",
      "model_module_version": "2.0.0",
      "model_name": "HTMLStyleModel",
      "state": {
       "description_width": "",
       "font_size": null,
       "text_color": null
      }
     },
     "d0d5b6e4884644fab8efcfec78352e52": {
      "model_module": "@jupyter-widgets/base",
      "model_module_version": "2.0.0",
      "model_name": "LayoutModel",
      "state": {
       "grid_area": "right",
       "padding": "0px 0px 0px 0px",
       "width": "70px"
      }
     },
     "e2a9f73a9bd2446bb3d83c3bf6181f27": {
      "model_module": "@jupyter-widgets/base",
      "model_module_version": "2.0.0",
      "model_name": "LayoutModel",
      "state": {
       "margin": "0px 0px 0px 37px",
       "width": "600px"
      }
     },
     "ec5522b837db412089672502a3c1a415": {
      "model_module": "@jupyter-widgets/controls",
      "model_module_version": "2.0.0",
      "model_name": "HTMLModel",
      "state": {
       "layout": "IPY_MODEL_0802c7cd0c354261af172e350026f614",
       "style": "IPY_MODEL_b4789b6d9b4c46639c84a862bbf2ca05",
       "value": "<h5>Job ID</h5>"
      }
     },
     "f19a9fa1890c48b5b9207e2b320630a4": {
      "model_module": "@jupyter-widgets/base",
      "model_module_version": "2.0.0",
      "model_name": "LayoutModel",
      "state": {
       "margin": "0px 0px 10px 0px"
      }
     },
     "f4fa7c57a4cd410b86514a44b10bab81": {
      "model_module": "@jupyter-widgets/base",
      "model_module_version": "2.0.0",
      "model_name": "LayoutModel",
      "state": {
       "width": "145px"
      }
     },
     "fb724cdb041740feab4b8fc455a36e94": {
      "model_module": "@jupyter-widgets/controls",
      "model_module_version": "2.0.0",
      "model_name": "HTMLStyleModel",
      "state": {
       "description_width": "",
       "font_size": null,
       "text_color": null
      }
     }
    },
    "version_major": 2,
    "version_minor": 0
   }
  }
 },
 "nbformat": 4,
 "nbformat_minor": 5
}
